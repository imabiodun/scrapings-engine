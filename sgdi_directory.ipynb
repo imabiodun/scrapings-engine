{
 "cells": [
  {
   "cell_type": "code",
   "execution_count": 11,
   "id": "62912ed0",
   "metadata": {},
   "outputs": [],
   "source": [
    "import requests\n",
    "from bs4 import BeautifulSoup  "
   ]
  },
  {
   "cell_type": "code",
   "execution_count": 12,
   "id": "3c69b6e5",
   "metadata": {},
   "outputs": [],
   "source": [
    "url='https://www.sgdi.gov.sg/ministries'"
   ]
  },
  {
   "cell_type": "code",
   "execution_count": 239,
   "id": "8e6ea220",
   "metadata": {},
   "outputs": [],
   "source": [
    "response=requests.get('https://www.sgdi.gov.sg/ministries').text\n",
    "# response"
   ]
  },
  {
   "cell_type": "code",
   "execution_count": 240,
   "id": "65913ec0",
   "metadata": {},
   "outputs": [],
   "source": [
    "soup=BeautifulSoup(response,'html.parser')"
   ]
  },
  {
   "cell_type": "code",
   "execution_count": 692,
   "id": "3786d576",
   "metadata": {},
   "outputs": [
    {
     "data": {
      "text/plain": [
       "['https://www.sgdi.gov.sg/ministries/mci',\n",
       " 'https://www.sgdi.gov.sg/ministries/mccy',\n",
       " 'https://www.sgdi.gov.sg/ministries/mindef',\n",
       " 'https://www.sgdi.gov.sg/ministries/moe',\n",
       " 'https://www.sgdi.gov.sg/ministries/MOF',\n",
       " 'https://www.sgdi.gov.sg/ministries/mfa',\n",
       " 'https://www.sgdi.gov.sg/ministries/moh',\n",
       " 'https://www.sgdi.gov.sg/ministries/mha',\n",
       " 'https://www.sgdi.gov.sg/ministries/minlaw',\n",
       " 'https://www.sgdi.gov.sg/ministries/mom',\n",
       " 'https://www.sgdi.gov.sg/ministries/mnd',\n",
       " 'https://www.sgdi.gov.sg/ministries/msf',\n",
       " 'https://www.sgdi.gov.sg/ministries/mse',\n",
       " 'https://www.sgdi.gov.sg/ministries/mti',\n",
       " 'https://www.sgdi.gov.sg/ministries/mot',\n",
       " 'https://www.sgdi.gov.sg/ministries/pmo']"
      ]
     },
     "execution_count": 692,
     "metadata": {},
     "output_type": "execute_result"
    }
   ],
   "source": [
    "# To get URL list of all ministries in 'https://www.sgdi.gov.sg/ministries'\n",
    "links=[]\n",
    "for a in soup.body.find_all('div',{'class':'directory-list'}):\n",
    "    for b in a.find_all('li'):\n",
    "        for a in range(len(b.find_all('a'))-1):\n",
    "            links.append('https://www.sgdi.gov.sg'+b.find_all('a')[a].get('href'))\n",
    "            \n",
    "links"
   ]
  },
  {
   "cell_type": "code",
   "execution_count": 694,
   "id": "2a721fa1",
   "metadata": {},
   "outputs": [],
   "source": [
    "# To get url request\n",
    "soup_=requests.get('https://www.sgdi.gov.sg/ministries/mci').content"
   ]
  },
  {
   "cell_type": "code",
   "execution_count": 548,
   "id": "030c07e6",
   "metadata": {},
   "outputs": [],
   "source": [
    "soup_=BeautifulSoup(soup_,'html.parser')"
   ]
  },
  {
   "cell_type": "code",
   "execution_count": 684,
   "id": "4e7a5644",
   "metadata": {},
   "outputs": [],
   "source": [
    "# to get the list of names of all ministries\n",
    "ministries=[]\n",
    "for a in soup.body.find_all('div',{'class':'directory-list'}):\n",
    "    for b in a.find_all('li'):\n",
    "        for a in b.find_all('a'):\n",
    "            ministries.append(a.text.strip())\n",
    "ministries= [a for a in ministries if len(a)>2]"
   ]
  },
  {
   "cell_type": "code",
   "execution_count": 557,
   "id": "7f12d77e",
   "metadata": {},
   "outputs": [],
   "source": [
    "# function created to get the HTML texts of the website\n",
    "scrapped=[]\n",
    "def scrap(url_):\n",
    "    for _ in url_:\n",
    "        scrapped.append(requests.get(_).text)\n",
    "    print(url_)"
   ]
  },
  {
   "cell_type": "code",
   "execution_count": 558,
   "id": "49dd27ad",
   "metadata": {},
   "outputs": [
    {
     "name": "stdout",
     "output_type": "stream",
     "text": [
      "['https://www.sgdi.gov.sg/ministries/mci', 'https://www.sgdi.gov.sg/ministries/mccy', 'https://www.sgdi.gov.sg/ministries/mindef', 'https://www.sgdi.gov.sg/ministries/moe', 'https://www.sgdi.gov.sg/ministries/MOF', 'https://www.sgdi.gov.sg/ministries/mfa', 'https://www.sgdi.gov.sg/ministries/moh', 'https://www.sgdi.gov.sg/ministries/mha', 'https://www.sgdi.gov.sg/ministries/minlaw', 'https://www.sgdi.gov.sg/ministries/mom', 'https://www.sgdi.gov.sg/ministries/mnd', 'https://www.sgdi.gov.sg/ministries/msf', 'https://www.sgdi.gov.sg/ministries/mse', 'https://www.sgdi.gov.sg/ministries/mti', 'https://www.sgdi.gov.sg/ministries/mot', 'https://www.sgdi.gov.sg/ministries/pmo']\n"
     ]
    }
   ],
   "source": [
    "# Calling Function\n",
    "scrap(links)"
   ]
  },
  {
   "cell_type": "code",
   "execution_count": 559,
   "id": "bc53d392",
   "metadata": {},
   "outputs": [],
   "source": [
    "# \"Souping\" the requests\n",
    "scrapped_=[]\n",
    "for a in scrapped:\n",
    "    drop_=BeautifulSoup(a,'html.parser')\n",
    "    scrapped_.append(drop_)\n",
    "#     print(a)\n"
   ]
  },
  {
   "cell_type": "code",
   "execution_count": 695,
   "id": "97f016a0",
   "metadata": {},
   "outputs": [],
   "source": [
    "# Function to give the list of directory found on the website\n",
    "def giveout(listed):\n",
    "#     for each ministry name\n",
    "    for min_ in ministries:\n",
    "        print(min_)\n",
    "#         show each department\n",
    "        header_of_workers=listed.find_all(class_='section-header')\n",
    "#       find all the workers of the each ministry\n",
    "        list__=listed.find_all(class_='section-body')\n",
    "        for head in header_of_workers:\n",
    "\n",
    "            for li in range(len(list__)):\n",
    "                for li_ in list__[li].find_all('li'):\n",
    "                    for final in range(len(li_.find_all('div'))):\n",
    "                        if li_.find_all('div')[final].text!='':\n",
    "                            print( li_.find_all('div')[final].text)\n",
    "                    print('\\n')\n",
    "            print(head.text)"
   ]
  },
  {
   "cell_type": "code",
   "execution_count": 690,
   "id": "c4e20615",
   "metadata": {},
   "outputs": [],
   "source": [
    "%%capture output__\n",
    "for a in scrapped_:\n",
    "    try:\n",
    "        giveout(a) \n",
    "    except:\n",
    "        raise ValueError"
   ]
  },
  {
   "cell_type": "markdown",
   "id": "1b679223",
   "metadata": {},
   "source": []
  },
  {
   "cell_type": "code",
   "execution_count": 691,
   "id": "0a5643fd",
   "metadata": {},
   "outputs": [],
   "source": [
    "with open('output_.txt','w') as file:\n",
    "    file.write(output__.stdout)"
   ]
  },
  {
   "cell_type": "markdown",
   "id": "e0209b87",
   "metadata": {},
   "source": []
  },
  {
   "cell_type": "code",
   "execution_count": null,
   "id": "0bb948b1",
   "metadata": {},
   "outputs": [],
   "source": []
  },
  {
   "cell_type": "code",
   "execution_count": null,
   "id": "c1607903",
   "metadata": {},
   "outputs": [],
   "source": []
  },
  {
   "cell_type": "code",
   "execution_count": 697,
   "id": "a5fdb4f4",
   "metadata": {},
   "outputs": [],
   "source": [
    "%%capture sgdi_scrap\n",
    "response\n"
   ]
  },
  {
   "cell_type": "code",
   "execution_count": 698,
   "id": "c0251d30",
   "metadata": {},
   "outputs": [],
   "source": [
    "with open('sgdi_response','w') as file:\n",
    "    file.write(sgdi_scrap.stdout)"
   ]
  },
  {
   "cell_type": "code",
   "execution_count": null,
   "id": "2810122a",
   "metadata": {},
   "outputs": [],
   "source": []
  }
 ],
 "metadata": {
  "kernelspec": {
   "display_name": "Python 3 (ipykernel)",
   "language": "python",
   "name": "python3"
  },
  "language_info": {
   "codemirror_mode": {
    "name": "ipython",
    "version": 3
   },
   "file_extension": ".py",
   "mimetype": "text/x-python",
   "name": "python",
   "nbconvert_exporter": "python",
   "pygments_lexer": "ipython3",
   "version": "3.8.6"
  }
 },
 "nbformat": 4,
 "nbformat_minor": 5
}
